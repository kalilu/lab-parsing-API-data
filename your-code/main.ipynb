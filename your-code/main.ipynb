{
 "cells": [
  {
   "cell_type": "markdown",
   "metadata": {},
   "source": [
    "# Challenge: Promotions\n",
    "\n",
    "In this challenge, you'll develop codes to parse and analyze data returned from another API on Zalando such as [Promos homme (Men's Promotions)\n",
    "](https://www.zalando.fr/promo-homme/) or [Promos femme (Women's Promotions)](https://www.zalando.fr/promo-femme/). The workflow is almost the same as in the guided lesson but you'll work with different data."
   ]
  },
  {
   "cell_type": "markdown",
   "metadata": {},
   "source": [
    "## Obtaining the link\n",
    "\n",
    "Wrote your codes in the cell below to obtain the data from the API endpoint you choose. A recap of the workflow:\n",
    "\n",
    "1. Examine the webpages and choose one that you want to work with.\n",
    "\n",
    "1. Use Google Chrome's DevTools to inspect the XHR network requests. Find out the API endpoint that serves data to the webpage.\n",
    "\n",
    "1. Test the API endpoint in the browser to verify its data.\n",
    "\n",
    "1. Change the page number offset of the API URL to test if it's working."
   ]
  },
  {
   "cell_type": "code",
   "execution_count": 3,
   "metadata": {
    "ExecuteTime": {
     "end_time": "2020-02-08T19:45:21.255304Z",
     "start_time": "2020-02-08T19:45:21.251320Z"
    }
   },
   "outputs": [],
   "source": [
    "# your code here\n",
    "#Trabajo con la bd de las chicas\n",
    "url='https://www.zalando.fr/api/catalog/articles?categories=promo-femme&limit=84&offset=0&sort=popularity'"
   ]
  },
  {
   "cell_type": "markdown",
   "metadata": {},
   "source": [
    "## Reading the data\n",
    "\n",
    "In the next cell, use Python to obtain data from the API endpoint you chose in the previous step. Workflow:\n",
    "\n",
    "1. Import libraries.\n",
    "\n",
    "1. Define the initial API endpoint URL.\n",
    "\n",
    "1. Make request to obtain data of the 1st page. Flatten the data and store it in an empty object variable.\n",
    "\n",
    "1. Find out the total page count in the 1st page data.\n",
    "\n",
    "1. Use a FOR loop to make requests for the additional pages from 2 to page count. Append the data of each additional page to the flatterned data object.\n",
    "\n",
    "1. Print and review the data you obtained."
   ]
  },
  {
   "cell_type": "code",
   "execution_count": 6,
   "metadata": {
    "ExecuteTime": {
     "end_time": "2020-02-08T19:54:57.559316Z",
     "start_time": "2020-02-08T19:47:13.767341Z"
    }
   },
   "outputs": [
    {
     "name": "stdout",
     "output_type": "stream",
     "text": [
      "Index(['amount', 'brand_name', 'delivery_promises', 'family_articles', 'flags',\n",
      "       'is_premium', 'media', 'name', 'price.base_price',\n",
      "       'price.has_different_original_prices', 'price.has_different_prices',\n",
      "       'price.has_different_promotional_prices',\n",
      "       'price.has_discount_on_selected_sizes_only', 'price.original',\n",
      "       'price.promotional', 'product_group', 'sizes', 'sku',\n",
      "       'tracking_information.impression_beacon',\n",
      "       'tracking_information.metrigo_impression_urls',\n",
      "       'tracking_information.source', 'url_key'],\n",
      "      dtype='object')\n",
      "Index(['amount', 'brand_name', 'delivery_promises', 'family_articles', 'flags',\n",
      "       'is_premium', 'media', 'name', 'price_base_price',\n",
      "       'price_has_different_original_prices', 'price_has_different_prices',\n",
      "       'price_has_different_promotional_prices',\n",
      "       'price_has_discount_on_selected_sizes_only', 'price_original',\n",
      "       'price_promotional', 'product_group', 'sizes', 'sku',\n",
      "       'tracking_information_impression_beacon',\n",
      "       'tracking_information_metrigo_impression_urls',\n",
      "       'tracking_information_source', 'url_key'],\n",
      "      dtype='object')\n"
     ]
    },
    {
     "data": {
      "text/html": [
       "<div>\n",
       "<style scoped>\n",
       "    .dataframe tbody tr th:only-of-type {\n",
       "        vertical-align: middle;\n",
       "    }\n",
       "\n",
       "    .dataframe tbody tr th {\n",
       "        vertical-align: top;\n",
       "    }\n",
       "\n",
       "    .dataframe thead th {\n",
       "        text-align: right;\n",
       "    }\n",
       "</style>\n",
       "<table border=\"1\" class=\"dataframe\">\n",
       "  <thead>\n",
       "    <tr style=\"text-align: right;\">\n",
       "      <th></th>\n",
       "      <th>amount</th>\n",
       "      <th>brand_name</th>\n",
       "      <th>delivery_promises</th>\n",
       "      <th>family_articles</th>\n",
       "      <th>flags</th>\n",
       "      <th>is_premium</th>\n",
       "      <th>media</th>\n",
       "      <th>name</th>\n",
       "      <th>price_base_price</th>\n",
       "      <th>price_has_different_original_prices</th>\n",
       "      <th>...</th>\n",
       "      <th>price_has_discount_on_selected_sizes_only</th>\n",
       "      <th>price_original</th>\n",
       "      <th>price_promotional</th>\n",
       "      <th>product_group</th>\n",
       "      <th>sizes</th>\n",
       "      <th>sku</th>\n",
       "      <th>tracking_information_impression_beacon</th>\n",
       "      <th>tracking_information_metrigo_impression_urls</th>\n",
       "      <th>tracking_information_source</th>\n",
       "      <th>url_key</th>\n",
       "    </tr>\n",
       "  </thead>\n",
       "  <tbody>\n",
       "    <tr>\n",
       "      <th>0</th>\n",
       "      <td>NaN</td>\n",
       "      <td>Nike Performance</td>\n",
       "      <td>[]</td>\n",
       "      <td>[{'sku': 'N1243A0XO-Q11', 'url_key': 'nike-per...</td>\n",
       "      <td>[{'key': 'discountRate', 'value': '-10%', 'tra...</td>\n",
       "      <td>False</td>\n",
       "      <td>[{'path': 'N1/24/3A/0X/OQ/11/N1243A0XO-Q11@11....</td>\n",
       "      <td>TEAM HUSTLE QUICK 2 - Chaussures de basket - b...</td>\n",
       "      <td>NaN</td>\n",
       "      <td>False</td>\n",
       "      <td>...</td>\n",
       "      <td>False</td>\n",
       "      <td>34,95 €</td>\n",
       "      <td>31,45 €</td>\n",
       "      <td>shoe</td>\n",
       "      <td>[27.5, 28, 28.5, 29.5, 30, 31, 32, 33, 33.5, 3...</td>\n",
       "      <td>N1243A0XO-Q11</td>\n",
       "      <td>https://ccp-et.metrigo.zalan.do/event/sbv?z=af...</td>\n",
       "      <td>[https://ccp-et.metrigo.zalan.do/event/sbv?z=a...</td>\n",
       "      <td>ccp</td>\n",
       "      <td>nike-performance-team-hustle-quick-2-chaussure...</td>\n",
       "    </tr>\n",
       "    <tr>\n",
       "      <th>1</th>\n",
       "      <td>NaN</td>\n",
       "      <td>Tommy Hilfiger</td>\n",
       "      <td>[]</td>\n",
       "      <td>[{'sku': 'TO113I00A-Q11', 'url_key': 'tommy-hi...</td>\n",
       "      <td>[{'key': 'discountRate', 'value': '-20%', 'tra...</td>\n",
       "      <td>False</td>\n",
       "      <td>[{'path': 'TO/11/3I/00/AQ/11/TO113I00A-Q11@10....</td>\n",
       "      <td>BOOT - Bottines à lacets - black</td>\n",
       "      <td>NaN</td>\n",
       "      <td>False</td>\n",
       "      <td>...</td>\n",
       "      <td>False</td>\n",
       "      <td>99,95 €</td>\n",
       "      <td>79,95 €</td>\n",
       "      <td>shoe</td>\n",
       "      <td>[28, 29, 30, 31, 32, 33, 34, 35, 36, 37, 38, 3...</td>\n",
       "      <td>TO113I00A-Q11</td>\n",
       "      <td>https://ccp-et.metrigo.zalan.do/event/sbv?z=af...</td>\n",
       "      <td>[https://ccp-et.metrigo.zalan.do/event/sbv?z=a...</td>\n",
       "      <td>ccp</td>\n",
       "      <td>tommy-hilfiger-boot-bottines-a-lacets-black-to...</td>\n",
       "    </tr>\n",
       "    <tr>\n",
       "      <th>2</th>\n",
       "      <td>NaN</td>\n",
       "      <td>Tommy Hilfiger</td>\n",
       "      <td>[]</td>\n",
       "      <td>[{'sku': 'TO113I00G-K11', 'url_key': 'tommy-hi...</td>\n",
       "      <td>[{'key': 'discountRate', 'value': '-30%', 'tra...</td>\n",
       "      <td>False</td>\n",
       "      <td>[{'path': 'TO/11/3I/00/GK/11/TO113I00G-K11@8.1...</td>\n",
       "      <td>Bottines - blue</td>\n",
       "      <td>NaN</td>\n",
       "      <td>False</td>\n",
       "      <td>...</td>\n",
       "      <td>False</td>\n",
       "      <td>94,95 €</td>\n",
       "      <td>66,45 €</td>\n",
       "      <td>shoe</td>\n",
       "      <td>[28, 29, 30, 33, 34, 35, 36, 37, 38, 40]</td>\n",
       "      <td>TO113I00G-K11</td>\n",
       "      <td>https://ccp-et.metrigo.zalan.do/event/sbv?z=af...</td>\n",
       "      <td>[https://ccp-et.metrigo.zalan.do/event/sbv?z=a...</td>\n",
       "      <td>ccp</td>\n",
       "      <td>tommy-hilfiger-bottines-blue-to113i00g-k11</td>\n",
       "    </tr>\n",
       "    <tr>\n",
       "      <th>3</th>\n",
       "      <td>NaN</td>\n",
       "      <td>Nike Performance</td>\n",
       "      <td>[]</td>\n",
       "      <td>[{'sku': 'N1243D0ZI-Q11', 'url_key': 'nike-per...</td>\n",
       "      <td>[{'key': 'discountRate', 'value': '-10%', 'tra...</td>\n",
       "      <td>False</td>\n",
       "      <td>[{'path': 'N1/24/3D/0Z/IQ/11/N1243D0ZI-Q11@4.j...</td>\n",
       "      <td>DRY ACADEMY DRILL TOP - T-shirt de sport - bla...</td>\n",
       "      <td>NaN</td>\n",
       "      <td>False</td>\n",
       "      <td>...</td>\n",
       "      <td>False</td>\n",
       "      <td>34,95 €</td>\n",
       "      <td>31,45 €</td>\n",
       "      <td>clothing</td>\n",
       "      <td>[6-8a, 8-10a, 10-12a, 12-13a, 13-15a]</td>\n",
       "      <td>N1243D0ZI-Q11</td>\n",
       "      <td>NaN</td>\n",
       "      <td>NaN</td>\n",
       "      <td>NaN</td>\n",
       "      <td>nike-performance-dry-dril-t-shirt-a-manches-lo...</td>\n",
       "    </tr>\n",
       "    <tr>\n",
       "      <th>4</th>\n",
       "      <td>NaN</td>\n",
       "      <td>Vans</td>\n",
       "      <td>[]</td>\n",
       "      <td>[{'sku': 'VA224G00U-Q11', 'url_key': 'vans-t-s...</td>\n",
       "      <td>[{'key': 'discountRate', 'value': '-10%', 'tra...</td>\n",
       "      <td>False</td>\n",
       "      <td>[{'path': 'VA/22/4G/00/UQ/11/VA224G00U-Q11@6.1...</td>\n",
       "      <td>CLASSIC BOYS - T-shirt imprimé - black/white</td>\n",
       "      <td>NaN</td>\n",
       "      <td>False</td>\n",
       "      <td>...</td>\n",
       "      <td>False</td>\n",
       "      <td>19,95 €</td>\n",
       "      <td>17,95 €</td>\n",
       "      <td>clothing</td>\n",
       "      <td>[8-10a, 10-12a, 14-16a, 16-18a]</td>\n",
       "      <td>VA224G00U-Q11</td>\n",
       "      <td>NaN</td>\n",
       "      <td>NaN</td>\n",
       "      <td>NaN</td>\n",
       "      <td>vans-t-shirt-imprime-blackwhite-va224g00u-q11</td>\n",
       "    </tr>\n",
       "  </tbody>\n",
       "</table>\n",
       "<p>5 rows × 22 columns</p>\n",
       "</div>"
      ],
      "text/plain": [
       "  amount        brand_name delivery_promises  \\\n",
       "0    NaN  Nike Performance                []   \n",
       "1    NaN    Tommy Hilfiger                []   \n",
       "2    NaN    Tommy Hilfiger                []   \n",
       "3    NaN  Nike Performance                []   \n",
       "4    NaN              Vans                []   \n",
       "\n",
       "                                     family_articles  \\\n",
       "0  [{'sku': 'N1243A0XO-Q11', 'url_key': 'nike-per...   \n",
       "1  [{'sku': 'TO113I00A-Q11', 'url_key': 'tommy-hi...   \n",
       "2  [{'sku': 'TO113I00G-K11', 'url_key': 'tommy-hi...   \n",
       "3  [{'sku': 'N1243D0ZI-Q11', 'url_key': 'nike-per...   \n",
       "4  [{'sku': 'VA224G00U-Q11', 'url_key': 'vans-t-s...   \n",
       "\n",
       "                                               flags  is_premium  \\\n",
       "0  [{'key': 'discountRate', 'value': '-10%', 'tra...       False   \n",
       "1  [{'key': 'discountRate', 'value': '-20%', 'tra...       False   \n",
       "2  [{'key': 'discountRate', 'value': '-30%', 'tra...       False   \n",
       "3  [{'key': 'discountRate', 'value': '-10%', 'tra...       False   \n",
       "4  [{'key': 'discountRate', 'value': '-10%', 'tra...       False   \n",
       "\n",
       "                                               media  \\\n",
       "0  [{'path': 'N1/24/3A/0X/OQ/11/N1243A0XO-Q11@11....   \n",
       "1  [{'path': 'TO/11/3I/00/AQ/11/TO113I00A-Q11@10....   \n",
       "2  [{'path': 'TO/11/3I/00/GK/11/TO113I00G-K11@8.1...   \n",
       "3  [{'path': 'N1/24/3D/0Z/IQ/11/N1243D0ZI-Q11@4.j...   \n",
       "4  [{'path': 'VA/22/4G/00/UQ/11/VA224G00U-Q11@6.1...   \n",
       "\n",
       "                                                name price_base_price  \\\n",
       "0  TEAM HUSTLE QUICK 2 - Chaussures de basket - b...              NaN   \n",
       "1                   BOOT - Bottines à lacets - black              NaN   \n",
       "2                                    Bottines - blue              NaN   \n",
       "3  DRY ACADEMY DRILL TOP - T-shirt de sport - bla...              NaN   \n",
       "4       CLASSIC BOYS - T-shirt imprimé - black/white              NaN   \n",
       "\n",
       "   price_has_different_original_prices  \\\n",
       "0                                False   \n",
       "1                                False   \n",
       "2                                False   \n",
       "3                                False   \n",
       "4                                False   \n",
       "\n",
       "                         ...                          \\\n",
       "0                        ...                           \n",
       "1                        ...                           \n",
       "2                        ...                           \n",
       "3                        ...                           \n",
       "4                        ...                           \n",
       "\n",
       "   price_has_discount_on_selected_sizes_only  price_original  \\\n",
       "0                                      False         34,95 €   \n",
       "1                                      False         99,95 €   \n",
       "2                                      False         94,95 €   \n",
       "3                                      False         34,95 €   \n",
       "4                                      False         19,95 €   \n",
       "\n",
       "   price_promotional product_group  \\\n",
       "0            31,45 €          shoe   \n",
       "1            79,95 €          shoe   \n",
       "2            66,45 €          shoe   \n",
       "3            31,45 €      clothing   \n",
       "4            17,95 €      clothing   \n",
       "\n",
       "                                               sizes            sku  \\\n",
       "0  [27.5, 28, 28.5, 29.5, 30, 31, 32, 33, 33.5, 3...  N1243A0XO-Q11   \n",
       "1  [28, 29, 30, 31, 32, 33, 34, 35, 36, 37, 38, 3...  TO113I00A-Q11   \n",
       "2           [28, 29, 30, 33, 34, 35, 36, 37, 38, 40]  TO113I00G-K11   \n",
       "3              [6-8a, 8-10a, 10-12a, 12-13a, 13-15a]  N1243D0ZI-Q11   \n",
       "4                    [8-10a, 10-12a, 14-16a, 16-18a]  VA224G00U-Q11   \n",
       "\n",
       "              tracking_information_impression_beacon  \\\n",
       "0  https://ccp-et.metrigo.zalan.do/event/sbv?z=af...   \n",
       "1  https://ccp-et.metrigo.zalan.do/event/sbv?z=af...   \n",
       "2  https://ccp-et.metrigo.zalan.do/event/sbv?z=af...   \n",
       "3                                                NaN   \n",
       "4                                                NaN   \n",
       "\n",
       "        tracking_information_metrigo_impression_urls  \\\n",
       "0  [https://ccp-et.metrigo.zalan.do/event/sbv?z=a...   \n",
       "1  [https://ccp-et.metrigo.zalan.do/event/sbv?z=a...   \n",
       "2  [https://ccp-et.metrigo.zalan.do/event/sbv?z=a...   \n",
       "3                                                NaN   \n",
       "4                                                NaN   \n",
       "\n",
       "  tracking_information_source  \\\n",
       "0                         ccp   \n",
       "1                         ccp   \n",
       "2                         ccp   \n",
       "3                         NaN   \n",
       "4                         NaN   \n",
       "\n",
       "                                             url_key  \n",
       "0  nike-performance-team-hustle-quick-2-chaussure...  \n",
       "1  tommy-hilfiger-boot-bottines-a-lacets-black-to...  \n",
       "2         tommy-hilfiger-bottines-blue-to113i00g-k11  \n",
       "3  nike-performance-dry-dril-t-shirt-a-manches-lo...  \n",
       "4      vans-t-shirt-imprime-blackwhite-va224g00u-q11  \n",
       "\n",
       "[5 rows x 22 columns]"
      ]
     },
     "execution_count": 6,
     "metadata": {},
     "output_type": "execute_result"
    }
   ],
   "source": [
    "# your code here\n",
    "#Trabajo con la bd de las chicas\n",
    "import json\n",
    "import requests\n",
    "import pandas as pd\n",
    "import numpy as np\n",
    "from pandas.io.json import json_normalize\n",
    "import re\n",
    "\n",
    "url='https://www.zalando.fr/api/catalog/articles?categories=promo-femme&limit=84&offset=0&sort=popularity'\n",
    "response = requests.get(url, headers={\"user-agent\":\"Mozilla/5.0 (Windows NT 10.0; Win64; x64) AppleWebKit/537.36 (KHTML, like Gecko) Chrome/79.0.3945.130 Safari/537.36\"})\n",
    "result=response.json()\n",
    "\n",
    "pag=result['pagination']\n",
    "page_count=pag['page_count']\n",
    "per_page=pag['per_page']\n",
    "\n",
    "dfTotalArticles=pd.DataFrame()\n",
    "for x in range(0,page_count):\n",
    "    url=\"https://www.zalando.fr/api/catalog/articles?categories=promo-enfant&limit=84&offset=\"+ str(int(per_page)*x)+\"&sort=popularity\"\n",
    "    response = requests.get(url, headers={\"user-agent\":\"Mozilla/5.0 (Windows NT 10.0; Win64; x64) AppleWebKit/537.36 (KHTML, like Gecko) Chrome/79.0.3945.130 Safari/537.36\"})\n",
    "    result=response.json()\n",
    "    if x==0:\n",
    "        dfTotalArticles=json_normalize(json_normalize(result).articles[0])\n",
    "    else:\n",
    "        dfTotalArticles=pd.concat([dfTotalArticles,json_normalize(json_normalize(result).articles[0])], ignore_index=True, sort=True)\n",
    "\n",
    "print(dfTotalArticles.columns)\n",
    "dfTotalArticles.columns=[str.strip(x.lower()) for x in dfTotalArticles.columns]\n",
    "dfTotalArticles.columns=[re.sub(r\"[. \\ :+]\",\"_\",x) for x in dfTotalArticles.columns]\n",
    "dfTotalArticles.columns=[re.sub(\"__\",\"_\",x) for x in dfTotalArticles.columns]\n",
    "print(dfTotalArticles.columns)\n",
    "dfTotalArticles.head()"
   ]
  },
  {
   "cell_type": "code",
   "execution_count": 7,
   "metadata": {
    "ExecuteTime": {
     "end_time": "2020-02-08T19:54:58.264336Z",
     "start_time": "2020-02-08T19:54:58.251363Z"
    }
   },
   "outputs": [
    {
     "data": {
      "text/plain": [
       "21968"
      ]
     },
     "execution_count": 7,
     "metadata": {},
     "output_type": "execute_result"
    }
   ],
   "source": [
    "dfTotalArticles.sku.count()"
   ]
  },
  {
   "cell_type": "markdown",
   "metadata": {},
   "source": [
    "## Bonus\n",
    "\n",
    "Extract the following information from the data:\n",
    "\n",
    "* The trending brand.\n",
    "\n",
    "* The product(s) with the highest discount.\n",
    "\n",
    "* The sum of discounts of all goods (sum_discounted_prices divided by sum_original_prices)."
   ]
  },
  {
   "cell_type": "code",
   "execution_count": 8,
   "metadata": {
    "ExecuteTime": {
     "end_time": "2020-02-08T19:55:03.163850Z",
     "start_time": "2020-02-08T19:54:58.914560Z"
    }
   },
   "outputs": [],
   "source": [
    "# your code here\n",
    "def clean_number(number):\n",
    "    clean_number=re.sub(\"\\D+\", \"\", str(number))\n",
    "    return clean_number\n",
    "\n",
    "def clean_text(text):\n",
    "    clean_text=re.sub(\"\\W+\\s*\", \" \", str(text))\n",
    "    return clean_text\n",
    "\n",
    "def clean_path(txt):\n",
    "    clean_packet_shot=txt['packet_shot']\n",
    "    clean_path=txt['path']\n",
    "    return (clean_path,clean_packet_shot)\n",
    "\n",
    "def clean_float(float_v):\n",
    "    float_v = re.sub(\",\", \".\", str(float_v))\n",
    "    clean_float=re.match(\"\\d+\\.?\\d*\", float_v).group()\n",
    "    return clean_float\n",
    "\n",
    "dfTotalArticles['amount_c']= dfTotalArticles.amount.apply(lambda x:clean_number(x))\n",
    "dfTotalArticles['brand_name_c']= dfTotalArticles.brand_name.apply(lambda x:clean_text(x))\n",
    "dfTotalArticles['delivery_promises_c']= dfTotalArticles.delivery_promises.apply(lambda x:clean_text(x))\n",
    "dfTotalArticles[['path_c','packet_shot_c']]= dfTotalArticles.media.apply(lambda x:clean_path(x[0])).apply(pd.Series)\n",
    "dfTotalArticles['price_original_c']= dfTotalArticles.price_original.apply(lambda x:clean_float(x))\n",
    "dfTotalArticles['price_promotional_c']= dfTotalArticles.price_promotional.apply(lambda x:clean_float(x))\n",
    "dfOutTotal=dfTotalArticles[['amount_c', 'brand_name_c', 'delivery_promises_c', 'family_articles', 'flags',\n",
    "       'is_premium', 'path_c','packet_shot_c', 'name', 'price_has_different_original_prices',\n",
    "       'price_has_different_prices', 'price_has_different_promotional_prices',\n",
    "       'price_has_discount_on_selected_sizes_only', 'price_original_c',\n",
    "       'price_promotional_c', 'product_group', 'sizes', 'sku', 'url_key']]\n",
    "dfOutTotal.columns=['amount', 'brand_name', 'delivery_promises', 'family_articles', 'flags',\n",
    "       'is_premium', 'path','packet_shot', 'name', 'price_has_different_original_prices',\n",
    "       'price_has_different_prices', 'price_has_different_promotional_prices',\n",
    "       'price_has_discount_on_selected_sizes_only', 'price_original',\n",
    "       'price_promotional', 'product_group', 'sizes', 'sku', 'url_key']"
   ]
  },
  {
   "cell_type": "markdown",
   "metadata": {},
   "source": [
    "### The trending brand"
   ]
  },
  {
   "cell_type": "code",
   "execution_count": 9,
   "metadata": {
    "ExecuteTime": {
     "end_time": "2020-02-08T19:55:04.080261Z",
     "start_time": "2020-02-08T19:55:04.064054Z"
    }
   },
   "outputs": [
    {
     "data": {
      "text/plain": [
       "Name it    1024\n",
       "Name: brand_name, dtype: int64"
      ]
     },
     "execution_count": 9,
     "metadata": {},
     "output_type": "execute_result"
    }
   ],
   "source": [
    "dfOutTotal.brand_name.value_counts().head(1)"
   ]
  },
  {
   "cell_type": "markdown",
   "metadata": {},
   "source": [
    "### The product(s) with the highest discount."
   ]
  },
  {
   "cell_type": "code",
   "execution_count": 14,
   "metadata": {
    "ExecuteTime": {
     "end_time": "2020-02-08T19:56:27.253041Z",
     "start_time": "2020-02-08T19:56:27.079505Z"
    }
   },
   "outputs": [
    {
     "name": "stderr",
     "output_type": "stream",
     "text": [
      "C:\\Users\\Kalilu\\Anaconda3\\lib\\site-packages\\ipykernel_launcher.py:1: SettingWithCopyWarning: \n",
      "A value is trying to be set on a copy of a slice from a DataFrame.\n",
      "Try using .loc[row_indexer,col_indexer] = value instead\n",
      "\n",
      "See the caveats in the documentation: http://pandas.pydata.org/pandas-docs/stable/indexing.html#indexing-view-versus-copy\n",
      "  \"\"\"Entry point for launching an IPython kernel.\n"
     ]
    },
    {
     "data": {
      "text/plain": [
       "sku\n",
       "C1824L003-M11    345.0\n",
       "Name: discount, dtype: float64"
      ]
     },
     "execution_count": 14,
     "metadata": {},
     "output_type": "execute_result"
    }
   ],
   "source": [
    "dfOutTotal['discount']=dfOutTotal.price_original.astype(float)-dfOutTotal.price_promotional.astype(float)\n",
    "dfOutTotal.groupby('sku')['discount'].agg('sum').sort_values(ascending=False).head(1)"
   ]
  }
 ],
 "metadata": {
  "kernelspec": {
   "display_name": "Python 3",
   "language": "python",
   "name": "python3"
  },
  "language_info": {
   "codemirror_mode": {
    "name": "ipython",
    "version": 3
   },
   "file_extension": ".py",
   "mimetype": "text/x-python",
   "name": "python",
   "nbconvert_exporter": "python",
   "pygments_lexer": "ipython3",
   "version": "3.7.1"
  },
  "latex_envs": {
   "LaTeX_envs_menu_present": true,
   "autoclose": false,
   "autocomplete": true,
   "bibliofile": "biblio.bib",
   "cite_by": "apalike",
   "current_citInitial": 1,
   "eqLabelWithNumbers": true,
   "eqNumInitial": 1,
   "hotkeys": {
    "equation": "Ctrl-E",
    "itemize": "Ctrl-I"
   },
   "labels_anchors": false,
   "latex_user_defs": false,
   "report_style_numbering": false,
   "user_envs_cfg": false
  },
  "toc": {
   "base_numbering": 1,
   "nav_menu": {},
   "number_sections": true,
   "sideBar": true,
   "skip_h1_title": false,
   "title_cell": "Table of Contents",
   "title_sidebar": "Contents",
   "toc_cell": false,
   "toc_position": {},
   "toc_section_display": true,
   "toc_window_display": false
  },
  "varInspector": {
   "cols": {
    "lenName": 16,
    "lenType": 16,
    "lenVar": 40
   },
   "kernels_config": {
    "python": {
     "delete_cmd_postfix": "",
     "delete_cmd_prefix": "del ",
     "library": "var_list.py",
     "varRefreshCmd": "print(var_dic_list())"
    },
    "r": {
     "delete_cmd_postfix": ") ",
     "delete_cmd_prefix": "rm(",
     "library": "var_list.r",
     "varRefreshCmd": "cat(var_dic_list()) "
    }
   },
   "types_to_exclude": [
    "module",
    "function",
    "builtin_function_or_method",
    "instance",
    "_Feature"
   ],
   "window_display": false
  }
 },
 "nbformat": 4,
 "nbformat_minor": 2
}
